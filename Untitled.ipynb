{
 "cells": [
  {
   "cell_type": "code",
   "execution_count": 2,
   "metadata": {},
   "outputs": [],
   "source": [
    "import pandas as pd\n",
    "import numpy as np\n",
    "import statsmodels.api as sm\n",
    "import statsmodels.formula.api as smf\n",
    "import matplotlib.pyplot as plt\n",
    "import seaborn as sns\n",
    "sns.set(color_codes=True) \n",
    "from sklearn.cluster import KMeans\n",
    "from sklearn.preprocessing import MinMaxScaler, StandardScaler\n",
    "from sklearn.linear_model import LinearRegression\n",
    "from sklearn.model_selection import KFold\n",
    "from sklearn.model_selection import train_test_split\n",
    "from sklearn.model_selection import cross_validate\n",
    "from sklearn.feature_selection import RFE\n",
    "\n",
    "from sklearn.ensemble import RandomForestClassifier as RF\n",
    "from sklearn.ensemble import GradientBoostingClassifier as GB\n",
    "from sklearn.linear_model import LogisticRegression as LR\n",
    "from sklearn.neural_network import MLPClassifier as MLP\n",
    "from sklearn.neighbors import KNeighborsClassifier as KN\n",
    "from sklearn.svm import SVC\n",
    "from sklearn.gaussian_process import GaussianProcessClassifier as GPC\n",
    "from sklearn.gaussian_process.kernels import RBF\n",
    "from sklearn.tree import DecisionTreeClassifier as DT\n",
    "from sklearn.ensemble import AdaBoostClassifier as ABC\n",
    "from sklearn.naive_bayes import GaussianNB as GNB\n",
    "from sklearn.model_selection import cross_val_score\n",
    "from sklearn.model_selection import GridSearchCV\n",
    "\n",
    "import warnings\n",
    "warnings.filterwarnings('ignore')\n",
    "pd.set_option('display.max_columns', None)\n",
    "color = sns.color_palette()\n",
    "%matplotlib inline\n",
    "import plotly.graph_objects as go"
   ]
  },
  {
   "cell_type": "code",
   "execution_count": 3,
   "metadata": {},
   "outputs": [],
   "source": [
    "df_reso = pd.read_pickle('data/df_reso.pkl')\n",
    "df_price_hist = pd.read_pickle('data/df_price_hist.pkl')\n",
    "df_sold = pd.read_pickle('data/df_sold.pkl')\n",
    "df_sold_detailed = pd.read_pickle('data/df_sold_detailed.pkl')"
   ]
  },
  {
   "cell_type": "code",
   "execution_count": 111,
   "metadata": {},
   "outputs": [],
   "source": [
    "df = df_sold_detailed.drop_duplicates(keep=\"first\").reset_index(drop=True)\n",
    "df.dropna(inplace=True, thresh=10)\n",
    "df.dropna(axis=0,subset= ['latitude'],inplace=True)\n",
    "df = df[['bathrooms', 'bedrooms', 'homeType',\n",
    "       'latitude','livingArea',\n",
    "       'longitude', 'lotSize',  'taxAssessedValue','yearBuilt',\n",
    "       'zipcode', 'price']]\n",
    "df.dropna(inplace=True)\n",
    "X = df.copy() # Attribute data\n",
    "y = X.pop('price') # Housing prices\n",
    "colNames = X.columns # Feature names\n",
    "y = y.astype(np.float64)"
   ]
  },
  {
   "cell_type": "code",
   "execution_count": null,
   "metadata": {},
   "outputs": [],
   "source": [
    "property_dummies = ['CONDO','MULTI_FAMILY','SINGLE_FAMILY','TOWNHOUSE']\n",
    "X[property_dummies] = pd.get_dummies(X['homeType'])[property_dummies]\n",
    "dums = d.get_dummies(X['zipcode'])\n",
    "X[dums.columns] = dums\n",
    "X.pop('homeType')\n",
    "X.pop('zipcode')\n",
    "X = X.astype(np.float64)"
   ]
  },
  {
   "cell_type": "code",
   "execution_count": null,
   "metadata": {},
   "outputs": [],
   "source": [
    "ss = StandardScaler()\n",
    "X_transform = ss.fit_transform(X)\n",
    "X_train, X_test, y_train, y_test = train_test_split(X_transform, y, test_size=0.3)"
   ]
  },
  {
   "cell_type": "code",
   "execution_count": 115,
   "metadata": {},
   "outputs": [
    {
     "name": "stdout",
     "output_type": "stream",
     "text": [
      "<class 'pandas.core.frame.DataFrame'>\n",
      "Int64Index: 6568 entries, 0 to 7383\n",
      "Data columns (total 13 columns):\n",
      " #   Column            Non-Null Count  Dtype  \n",
      "---  ------            --------------  -----  \n",
      " 0   bathrooms         6568 non-null   float64\n",
      " 1   bedrooms          6568 non-null   float64\n",
      " 2   latitude          6568 non-null   float64\n",
      " 3   livingArea        6568 non-null   float64\n",
      " 4   longitude         6568 non-null   float64\n",
      " 5   lotSize           6568 non-null   float64\n",
      " 6   taxAssessedValue  6568 non-null   float64\n",
      " 7   yearBuilt         6568 non-null   float64\n",
      " 8   zipcode           6568 non-null   float64\n",
      " 9   CONDO             6568 non-null   float64\n",
      " 10  MULTI_FAMILY      6568 non-null   float64\n",
      " 11  SINGLE_FAMILY     6568 non-null   float64\n",
      " 12  TOWNHOUSE         6568 non-null   float64\n",
      "dtypes: float64(13)\n",
      "memory usage: 718.4 KB\n"
     ]
    }
   ],
   "source": [
    "# scaler = MinMaxScaler()\n",
    "# scaled_df = scaler.fit_transform(X_train[['latitude','longitude']])\n",
    "# kmeans = KMeans(n_clusters=5, random_state=0).fit(scaled_df)\n",
    "# X_train.loc[:, 'cluster'] = kmeans.labels_\n",
    "# cluster_df = X.copy(deep=True) \n",
    "# cluster_df.dropna(inplace=True, thresh=3) \n",
    "# cluster_df.describe() \n",
    "# # cluster_df['cluster'] = kmeans.labels_\n",
    "# cluster_df.describe()\n",
    "X.info()"
   ]
  },
  {
   "cell_type": "code",
   "execution_count": 116,
   "metadata": {
    "collapsed": true
   },
   "outputs": [],
   "source": [
    "rf = RF()\n",
    "lr = LR()\n",
    "gb = GB()\n",
    "mlp = MLP()\n",
    "kn = KN()\n",
    "svc = SVC()\n",
    "gpc = GPC()\n",
    "rbf = RBF()\n",
    "dt = DT()\n",
    "abc = ABC()\n",
    "gnb = GNB()"
   ]
  },
  {
   "cell_type": "code",
   "execution_count": null,
   "metadata": {},
   "outputs": [
    {
     "name": "stdout",
     "output_type": "stream",
     "text": [
      "Random Forest train score: 0.9930389384381119\n",
      "Random Forest test score: 0.0167427701674277\n",
      "\n",
      "\n",
      "Logistic Regression train score: 0.03763323906895802\n",
      "Logistic Regression test score: 0.0121765601217656\n",
      "\n",
      "\n"
     ]
    }
   ],
   "source": [
    "def check_model(name, model,X_train,y_train,X_test,y_test):\n",
    "    model.fit(X_train,y_train)\n",
    "    print(\"{} train score: {}\".format(name, model.score(X_train,y_train)))\n",
    "    print(\"{} test score: {}\".format(name, model.score(X_test,y_test)))\n",
    "    print('\\n')\n",
    "\n",
    "\n",
    "names = ['Random Forest',\n",
    "         'Logistic Regression',\n",
    "         'Gradient Boosting Classifier',\n",
    "         'MLP Classifier',\n",
    "         'KNeighbors Classifier',\n",
    "         'SVC',\n",
    "         'Gaussian Process Classifier',\n",
    "         'Decision Tree Classifier',\n",
    "         'AdaBoost Classifier',\n",
    "         'Gaussian Naive Bayes']\n",
    "models = [rf,lr,gb,mlp,kn,svc,gpc,dt,abc,gnb]\n",
    "\n",
    "for name, model in zip(names,models):\n",
    "    check_model(name, model,X_train,y_train,X_test,y_test)"
   ]
  },
  {
   "cell_type": "code",
   "execution_count": 65,
   "metadata": {},
   "outputs": [
    {
     "data": {
      "text/html": [
       "<div>\n",
       "<style scoped>\n",
       "    .dataframe tbody tr th:only-of-type {\n",
       "        vertical-align: middle;\n",
       "    }\n",
       "\n",
       "    .dataframe tbody tr th {\n",
       "        vertical-align: top;\n",
       "    }\n",
       "\n",
       "    .dataframe thead th {\n",
       "        text-align: right;\n",
       "    }\n",
       "</style>\n",
       "<table border=\"1\" class=\"dataframe\">\n",
       "  <thead>\n",
       "    <tr style=\"text-align: right;\">\n",
       "      <th></th>\n",
       "      <th>bathrooms</th>\n",
       "      <th>bedrooms</th>\n",
       "      <th>latitude</th>\n",
       "      <th>livingArea</th>\n",
       "      <th>longitude</th>\n",
       "      <th>lotSize</th>\n",
       "      <th>taxAssessedValue</th>\n",
       "      <th>yearBuilt</th>\n",
       "      <th>zipcode</th>\n",
       "    </tr>\n",
       "  </thead>\n",
       "  <tbody>\n",
       "    <tr>\n",
       "      <th>6678</th>\n",
       "      <td>2</td>\n",
       "      <td>3</td>\n",
       "      <td>39.7592</td>\n",
       "      <td>1820</td>\n",
       "      <td>-104.959</td>\n",
       "      <td>4356</td>\n",
       "      <td>538800</td>\n",
       "      <td>1901</td>\n",
       "      <td>80205</td>\n",
       "    </tr>\n",
       "    <tr>\n",
       "      <th>3787</th>\n",
       "      <td>6</td>\n",
       "      <td>7</td>\n",
       "      <td>39.7357</td>\n",
       "      <td>3840</td>\n",
       "      <td>-104.978</td>\n",
       "      <td>3920</td>\n",
       "      <td>1270700</td>\n",
       "      <td>1900</td>\n",
       "      <td>80218</td>\n",
       "    </tr>\n",
       "    <tr>\n",
       "      <th>4955</th>\n",
       "      <td>1</td>\n",
       "      <td>3</td>\n",
       "      <td>39.7527</td>\n",
       "      <td>1300</td>\n",
       "      <td>-104.979</td>\n",
       "      <td>3049</td>\n",
       "      <td>485300</td>\n",
       "      <td>1890</td>\n",
       "      <td>80205</td>\n",
       "    </tr>\n",
       "    <tr>\n",
       "      <th>4352</th>\n",
       "      <td>1</td>\n",
       "      <td>1</td>\n",
       "      <td>39.7485</td>\n",
       "      <td>657</td>\n",
       "      <td>-104.968</td>\n",
       "      <td>760</td>\n",
       "      <td>210100</td>\n",
       "      <td>1951</td>\n",
       "      <td>80205</td>\n",
       "    </tr>\n",
       "    <tr>\n",
       "      <th>3652</th>\n",
       "      <td>2</td>\n",
       "      <td>2</td>\n",
       "      <td>39.7406</td>\n",
       "      <td>1873</td>\n",
       "      <td>-104.967</td>\n",
       "      <td>3120</td>\n",
       "      <td>587000</td>\n",
       "      <td>1890</td>\n",
       "      <td>80218</td>\n",
       "    </tr>\n",
       "    <tr>\n",
       "      <th>...</th>\n",
       "      <td>...</td>\n",
       "      <td>...</td>\n",
       "      <td>...</td>\n",
       "      <td>...</td>\n",
       "      <td>...</td>\n",
       "      <td>...</td>\n",
       "      <td>...</td>\n",
       "      <td>...</td>\n",
       "      <td>...</td>\n",
       "    </tr>\n",
       "    <tr>\n",
       "      <th>3445</th>\n",
       "      <td>3</td>\n",
       "      <td>5</td>\n",
       "      <td>39.7299</td>\n",
       "      <td>3222</td>\n",
       "      <td>-104.971</td>\n",
       "      <td>4791</td>\n",
       "      <td>962900</td>\n",
       "      <td>1902</td>\n",
       "      <td>80218</td>\n",
       "    </tr>\n",
       "    <tr>\n",
       "      <th>1467</th>\n",
       "      <td>3</td>\n",
       "      <td>4</td>\n",
       "      <td>39.7107</td>\n",
       "      <td>2595</td>\n",
       "      <td>-104.974</td>\n",
       "      <td>4791</td>\n",
       "      <td>675200</td>\n",
       "      <td>1908</td>\n",
       "      <td>80209</td>\n",
       "    </tr>\n",
       "    <tr>\n",
       "      <th>1194</th>\n",
       "      <td>6</td>\n",
       "      <td>5</td>\n",
       "      <td>39.7007</td>\n",
       "      <td>4755</td>\n",
       "      <td>-104.978</td>\n",
       "      <td>4748</td>\n",
       "      <td>1553300</td>\n",
       "      <td>2019</td>\n",
       "      <td>80209</td>\n",
       "    </tr>\n",
       "    <tr>\n",
       "      <th>2820</th>\n",
       "      <td>2</td>\n",
       "      <td>3</td>\n",
       "      <td>39.7249</td>\n",
       "      <td>1612</td>\n",
       "      <td>-104.996</td>\n",
       "      <td>3123</td>\n",
       "      <td>419800</td>\n",
       "      <td>1891</td>\n",
       "      <td>80204</td>\n",
       "    </tr>\n",
       "    <tr>\n",
       "      <th>4806</th>\n",
       "      <td>1</td>\n",
       "      <td>3</td>\n",
       "      <td>39.7504</td>\n",
       "      <td>1349</td>\n",
       "      <td>-104.981</td>\n",
       "      <td>3140</td>\n",
       "      <td>473300</td>\n",
       "      <td>1888</td>\n",
       "      <td>80205</td>\n",
       "    </tr>\n",
       "  </tbody>\n",
       "</table>\n",
       "<p>5169 rows × 9 columns</p>\n",
       "</div>"
      ],
      "text/plain": [
       "     bathrooms bedrooms latitude livingArea longitude lotSize  \\\n",
       "6678         2        3  39.7592       1820  -104.959    4356   \n",
       "3787         6        7  39.7357       3840  -104.978    3920   \n",
       "4955         1        3  39.7527       1300  -104.979    3049   \n",
       "4352         1        1  39.7485        657  -104.968     760   \n",
       "3652         2        2  39.7406       1873  -104.967    3120   \n",
       "...        ...      ...      ...        ...       ...     ...   \n",
       "3445         3        5  39.7299       3222  -104.971    4791   \n",
       "1467         3        4  39.7107       2595  -104.974    4791   \n",
       "1194         6        5  39.7007       4755  -104.978    4748   \n",
       "2820         2        3  39.7249       1612  -104.996    3123   \n",
       "4806         1        3  39.7504       1349  -104.981    3140   \n",
       "\n",
       "     taxAssessedValue yearBuilt zipcode  \n",
       "6678           538800      1901   80205  \n",
       "3787          1270700      1900   80218  \n",
       "4955           485300      1890   80205  \n",
       "4352           210100      1951   80205  \n",
       "3652           587000      1890   80218  \n",
       "...               ...       ...     ...  \n",
       "3445           962900      1902   80218  \n",
       "1467           675200      1908   80209  \n",
       "1194          1553300      2019   80209  \n",
       "2820           419800      1891   80204  \n",
       "4806           473300      1888   80205  \n",
       "\n",
       "[5169 rows x 9 columns]"
      ]
     },
     "execution_count": 65,
     "metadata": {},
     "output_type": "execute_result"
    }
   ],
   "source": [
    "X_train"
   ]
  },
  {
   "cell_type": "code",
   "execution_count": 120,
   "metadata": {
    "collapsed": true
   },
   "outputs": [],
   "source": [
    "# plot change in price for houses re-sold in less than a year\n",
    "df_price_hist['date_diff'] = df_price_hist['date'].diff()"
   ]
  },
  {
   "cell_type": "code",
   "execution_count": 119,
   "metadata": {
    "collapsed": true
   },
   "outputs": [],
   "source": [
    "df_price_hist['date'] = df_price_hist['date'].astype('datetime64[ns]')"
   ]
  },
  {
   "cell_type": "code",
   "execution_count": 182,
   "metadata": {},
   "outputs": [
    {
     "data": {
      "text/plain": [
       "(-200000, 500000)"
      ]
     },
     "execution_count": 182,
     "metadata": {},
     "output_type": "execute_result"
    },
    {
     "data": {
      "image/png": "[encoded data removed]",
      "text/plain": [
       "<matplotlib.figure.Figure at 0x7faddb6daeb8>"
      ]
     },
     "metadata": {},
     "output_type": "display_data"
    }
   ],
   "source": [
    "df_price_hist = df_price_hist[df_price_hist['event'] == 'Sold']\n",
    "df_price_hist['date'] = df_price_hist['date'].astype('datetime64[ns]')\n",
    "# plot change in price for houses re-sold in less than a year\n",
    "df_price_hist['date_diff'] = df_price_hist['date'].diff(periods=-1)\n",
    "df_price_hist['price_diff'] = df_price_hist['price'].diff(periods=-1)\n",
    "df_price_hist['zpid_diff'] = df_price_hist['zpid'].astype(int).diff(periods=-1) #(df_price_hist['zpid_diff'] == 0) & \n",
    "df_price_hist[(df_price_hist['zpid_diff'] == 0) & \n",
    "              (df_price_hist['date_diff'] <= pd.Timedelta('365 days')) &\n",
    "             (df_price_hist['date_diff'] >= pd.Timedelta('0 days'))]['price_diff']\n",
    "\n",
    "# An \"interface\" to matplotlib.axes.Axes.hist() method\n",
    "d = df_price_hist[(df_price_hist['zpid_diff'] == 0) & \n",
    "              (df_price_hist['date_diff'] <= pd.Timedelta('365 days')) &\n",
    "             (df_price_hist['date_diff'] >= pd.Timedelta('0 days'))]['price_diff']\n",
    "n, bins, patches = plt.hist(x=d, bins='auto', color='#0504aa',\n",
    "                            alpha=0.7, rwidth=0.85)\n",
    "plt.grid(axis='y', alpha=0.75)\n",
    "plt.xlabel('Value')\n",
    "plt.ylabel('Frequency')\n",
    "plt.title('My Very Own Histogram')\n",
    "plt.text(23, 45, r'$\\mu=15, b=3$')\n",
    "maxfreq = n.max()\n",
    "# Set a clean upper y-axis limit.\n",
    "plt.ylim(ymax=np.ceil(maxfreq / 10) * 10 if maxfreq % 10 else maxfreq + 10)\n",
    "plt.xlim(xmax=500000, xmin = -200000)\n",
    "\n",
    "# df_price_hist"
   ]
  },
  {
   "cell_type": "code",
   "execution_count": 229,
   "metadata": {},
   "outputs": [
    {
     "name": "stdout",
     "output_type": "stream",
     "text": [
      "\n",
      "The following command must be run outside of the IPython shell:\n",
      "\n",
      "    $ pip install seaborn --upgrade\n",
      "\n",
      "The Python package manager (pip) can only be used from outside of IPython.\n",
      "Please reissue the `pip` command in a separate terminal or command prompt.\n",
      "\n",
      "See the Python documentation for more informations on how to install packages:\n",
      "\n",
      "    https://docs.python.org/3/installing/\n"
     ]
    }
   ],
   "source": []
  },
  {
   "cell_type": "code",
   "execution_count": null,
   "metadata": {
    "collapsed": true
   },
   "outputs": [],
   "source": []
  }
 ],
 "metadata": {
  "kernelspec": {
   "display_name": "Python 3",
   "language": "python",
   "name": "python3"
  },
  "language_info": {
   "codemirror_mode": {
    "name": "ipython",
    "version": 3
   },
   "file_extension": ".py",
   "mimetype": "text/x-python",
   "name": "python",
   "nbconvert_exporter": "python",
   "pygments_lexer": "ipython3",
   "version": "3.8.5"
  }
 },
 "nbformat": 4,
 "nbformat_minor": 2
}
